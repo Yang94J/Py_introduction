{
 "cells": [
  {
   "cell_type": "markdown",
   "metadata": {},
   "source": [
    "# 输入日期，判断改天是星期几"
   ]
  },
  {
   "cell_type": "code",
   "execution_count": 1,
   "metadata": {},
   "outputs": [
    {
     "name": "stdout",
     "output_type": "stream",
     "text": [
      "please enter the date of today with number:2019 06 07\n",
      "please enter the date of another day with number:2019 11 25\n",
      "please enter what day of the week is today with integer:2\n",
      "another day which you input is:\n",
      "周二\n"
     ]
    }
   ],
   "source": [
    "today=input(\"please enter the date of today with number:\").split()\n",
    "month_today=int(today[0])\n",
    "day_today=int(today[1])\n",
    "future=input(\"please enter the date of another day with number:\").split()\n",
    "month_future=int(future[0])\n",
    "day_future=int(future[1])\n",
    "def calculate_days(month_today,day_today):\n",
    "    month_check=[31,28,31,30,31,30,31,31,30,31,30,31]\n",
    "    sum_date=0\n",
    "    for i in range(len(month_check)):\n",
    "        if month_today==i+1:\n",
    "            sum_date=sum(month_check[0:i])+day_today\n",
    "    return sum_date\n",
    "n=calculate_days(month_future,day_future)-calculate_days(month_today,day_today)\n",
    "weekday=int(input(\"please enter what day of the week is today with integer:\"))\n",
    "def day(n,today):\n",
    "    week=[u'周一',u'周二',u'周三',u'周四',u'周五',u'周六',u'周天']\n",
    "    if n+today<=7:\n",
    "        print(week[n+today-1])\n",
    "    else:\n",
    "        print(week[(n-(7-today))%7-1])\n",
    "print(\"another day which you input is:\")\n",
    "day(n,weekday)"
   ]
  },
  {
   "cell_type": "code",
   "execution_count": null,
   "metadata": {},
   "outputs": [],
   "source": []
  }
 ],
 "metadata": {
  "kernelspec": {
   "display_name": "Python 3",
   "language": "python",
   "name": "python3"
  },
  "language_info": {
   "codemirror_mode": {
    "name": "ipython",
    "version": 3
   },
   "file_extension": ".py",
   "mimetype": "text/x-python",
   "name": "python",
   "nbconvert_exporter": "python",
   "pygments_lexer": "ipython3",
   "version": "3.7.3"
  }
 },
 "nbformat": 4,
 "nbformat_minor": 2
}
