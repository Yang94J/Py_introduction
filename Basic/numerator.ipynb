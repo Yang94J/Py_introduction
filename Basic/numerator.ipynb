{
 "cells": [
  {
   "cell_type": "markdown",
   "metadata": {},
   "source": [
    "# 1.有一分数序列：2/1，3/2，5/3，8/5，13/8，21/13...求出这个数列的前n项之和。"
   ]
  },
  {
   "cell_type": "code",
   "execution_count": 1,
   "metadata": {},
   "outputs": [
    {
     "name": "stdout",
     "output_type": "stream",
     "text": [
      "please input how many items you want to sum:5\n",
      "[2, 3, 5, 8, 13] [1, 2, 3, 5, 8] 8.391666666666667\n"
     ]
    }
   ],
   "source": [
    "numerator=[2]\n",
    "denominator=[1]\n",
    "arr=[]\n",
    "sum_arr=0\n",
    "n=int(input(\"please input how many items you want to sum:\"))\n",
    "while len(denominator)<n:\n",
    "    numerator.append(denominator[len(numerator)-1]+numerator[len(numerator)-1])\n",
    "    denominator.append(numerator[len(numerator)-2])   \n",
    "for i in range(len(numerator)):\n",
    "    arr.append(numerator[i]/denominator[i])\n",
    "sum_arr=sum(arr)\n",
    "print(numerator,denominator,sum_arr)"
   ]
  }
 ],
 "metadata": {
  "kernelspec": {
   "display_name": "Python 3",
   "language": "python",
   "name": "python3"
  },
  "language_info": {
   "codemirror_mode": {
    "name": "ipython",
    "version": 3
   },
   "file_extension": ".py",
   "mimetype": "text/x-python",
   "name": "python",
   "nbconvert_exporter": "python",
   "pygments_lexer": "ipython3",
   "version": "3.7.3"
  }
 },
 "nbformat": 4,
 "nbformat_minor": 2
}
