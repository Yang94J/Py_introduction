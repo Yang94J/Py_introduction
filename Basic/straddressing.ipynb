{
 "cells": [
  {
   "cell_type": "markdown",
   "metadata": {},
   "source": [
    "# 1.将数字转成人民币读法\n"
   ]
  },
  {
   "cell_type": "code",
   "execution_count": 1,
   "metadata": {},
   "outputs": [
    {
     "name": "stdout",
     "output_type": "stream",
     "text": [
      "please enter an integer less than 1e8:12345\n",
      "一万二千三百四十五"
     ]
    }
   ],
   "source": [
    "value=input(\"please enter an integer less than 1e8:\")\n",
    "a=[1,2,3,4,5,6,7,8,9,0]\n",
    "b=['一','二','三','四','五','六','七','八','九','零']\n",
    "c=['','十','百','千','万','十','百','千']\n",
    "e=[]\n",
    "f=[]\n",
    "for i in range(len(a)):\n",
    "    if len(value)==a[i]:\n",
    "        d=c[i::-1]\n",
    "for i in range(len(value)):\n",
    "    for j in range(len(a)):\n",
    "        if int(value[i])==a[j]:\n",
    "            e.append(b[j])\n",
    "for i in range(len(value)):\n",
    "    if e[i]=='零':\n",
    "        f.append(e[i])\n",
    "    elif e[i]=='零' and e[i-1]=='零':\n",
    "        f.append('')\n",
    "    else:\n",
    "        f.append(e[i]+d[i])\n",
    "if int(len(value))>4 and f[int(len(value))-4]=='零':\n",
    "        f[int(len(value))-4]='万'\n",
    "for i in f:\n",
    "    print(i,end=\"\")"
   ]
  },
  {
   "cell_type": "code",
   "execution_count": null,
   "metadata": {},
   "outputs": [],
   "source": []
  }
 ],
 "metadata": {
  "kernelspec": {
   "display_name": "Python 3",
   "language": "python",
   "name": "python3"
  },
  "language_info": {
   "codemirror_mode": {
    "name": "ipython",
    "version": 3
   },
   "file_extension": ".py",
   "mimetype": "text/x-python",
   "name": "python",
   "nbconvert_exporter": "python",
   "pygments_lexer": "ipython3",
   "version": "3.7.3"
  }
 },
 "nbformat": 4,
 "nbformat_minor": 2
}
