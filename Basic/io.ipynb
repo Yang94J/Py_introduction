{
 "cells": [
  {
   "cell_type": "markdown",
   "metadata": {},
   "source": [
    "# 1.输入x，利用print，输出“my name is x”"
   ]
  },
  {
   "cell_type": "code",
   "execution_count": 3,
   "metadata": {},
   "outputs": [
    {
     "name": "stdout",
     "output_type": "stream",
     "text": [
      "Please input your name：Liao Jingyi\n",
      "My name is:  Liao Jingyi\n"
     ]
    }
   ],
   "source": [
    "str = input(\"Please input your name：\")\n",
    "print (\"My name is: \",str)"
   ]
  },
  {
   "cell_type": "markdown",
   "metadata": {},
   "source": [
    "# 2.输入整数x,输出x^2"
   ]
  },
  {
   "cell_type": "code",
   "execution_count": 2,
   "metadata": {},
   "outputs": [
    {
     "name": "stdout",
     "output_type": "stream",
     "text": [
      "3\n",
      "9\n"
     ]
    }
   ],
   "source": [
    "x=int(input())\n",
    "print(x**2)"
   ]
  },
  {
   "cell_type": "markdown",
   "metadata": {},
   "source": [
    "# 3.输入一个数学式如3+5，输出最终的值"
   ]
  },
  {
   "cell_type": "code",
   "execution_count": 50,
   "metadata": {},
   "outputs": [
    {
     "name": "stdout",
     "output_type": "stream",
     "text": [
      "3/5\n",
      "0.6\n"
     ]
    }
   ],
   "source": [
    "equation=eval(input()) \n",
    "print(equation)"
   ]
  },
  {
   "cell_type": "markdown",
   "metadata": {},
   "source": [
    "# 4.一行输入3个数 分开获取 输出最大的值和平均值"
   ]
  },
  {
   "cell_type": "code",
   "execution_count": 69,
   "metadata": {
    "scrolled": true
   },
   "outputs": [
    {
     "name": "stdout",
     "output_type": "stream",
     "text": [
      "1 4 6\n",
      "the maximum value is: 6 the mean is: 3.6666666666666665\n"
     ]
    }
   ],
   "source": [
    "a,b,c=input().split()\n",
    "maximumabc=max(int(a),int(b),int(c))\n",
    "meanabc=(int(a)+int(b)+int(c))/3\n",
    "print(\"the maximum value is:\", maximumabc,\"the mean is:\", meanabc)"
   ]
  },
  {
   "cell_type": "markdown",
   "metadata": {},
   "source": [
    "# 5.一行输入多个数 分开获取输出最大值和平均数"
   ]
  },
  {
   "cell_type": "code",
   "execution_count": 5,
   "metadata": {},
   "outputs": [
    {
     "name": "stdout",
     "output_type": "stream",
     "text": [
      "2 44 55\n",
      "['2', '44', '55']\n",
      "55 101\n"
     ]
    }
   ],
   "source": [
    "data=input().split()\n",
    "sum_data=0\n",
    "print(data)\n",
    "for i in range(len(data)):\n",
    "    sum_data=int(data[i])+sum_data\n",
    "print(max(data),sum_data)"
   ]
  },
  {
   "cell_type": "code",
   "execution_count": 4,
   "metadata": {},
   "outputs": [
    {
     "name": "stdout",
     "output_type": "stream",
     "text": [
      "2 44 55\n",
      "55 101\n"
     ]
    }
   ],
   "source": [
    "x=input().split()\n",
    "x=[int(i) for i in x]\n",
    "print(max(x),sum(x))"
   ]
  },
  {
   "cell_type": "code",
   "execution_count": null,
   "metadata": {},
   "outputs": [],
   "source": []
  }
 ],
 "metadata": {
  "kernelspec": {
   "display_name": "Python 3",
   "language": "python",
   "name": "python3"
  },
  "language_info": {
   "codemirror_mode": {
    "name": "ipython",
    "version": 3
   },
   "file_extension": ".py",
   "mimetype": "text/x-python",
   "name": "python",
   "nbconvert_exporter": "python",
   "pygments_lexer": "ipython3",
   "version": "3.7.3"
  }
 },
 "nbformat": 4,
 "nbformat_minor": 2
}
