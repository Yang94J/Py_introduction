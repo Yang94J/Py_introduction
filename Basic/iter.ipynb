{
 "cells": [
  {
   "cell_type": "markdown",
   "metadata": {},
   "source": [
    "# 1. 给一个区间，看这个区间内有多少个质数。"
   ]
  },
  {
   "cell_type": "code",
   "execution_count": 10,
   "metadata": {},
   "outputs": [
    {
     "name": "stdout",
     "output_type": "stream",
     "text": [
      "please enter the minimum value:2\n",
      "please enter the maximum value:89\n",
      "there are 24 prime numbers, they are: [2, 3, 5, 7, 11, 13, 17, 19, 23, 29, 31, 37, 41, 43, 47, 53, 59, 61, 67, 71, 73, 79, 83, 89]\n"
     ]
    }
   ],
   "source": [
    "import copy\n",
    "start=int(input(\"please enter the minimum value:\"))\n",
    "end=int(input(\"please enter the maximum value:\"))\n",
    "step=copy.copy(start)\n",
    "count=[]\n",
    "while step<end or step==end:\n",
    "    for i in range(2,step+1):\n",
    "        if step%i==0:\n",
    "            count.append(step)\n",
    "    step+=1\n",
    "A=[x for x in count if count.count(x) == 1]         \n",
    "print(\"there are\",len(A),\"prime numbers, they are:\",A)"
   ]
  },
  {
   "cell_type": "code",
   "execution_count": null,
   "metadata": {},
   "outputs": [],
   "source": []
  }
 ],
 "metadata": {
  "kernelspec": {
   "display_name": "Python 3",
   "language": "python",
   "name": "python3"
  },
  "language_info": {
   "codemirror_mode": {
    "name": "ipython",
    "version": 3
   },
   "file_extension": ".py",
   "mimetype": "text/x-python",
   "name": "python",
   "nbconvert_exporter": "python",
   "pygments_lexer": "ipython3",
   "version": "3.7.3"
  }
 },
 "nbformat": 4,
 "nbformat_minor": 2
}
