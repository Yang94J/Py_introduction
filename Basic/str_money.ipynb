{
 "cells": [
  {
   "cell_type": "markdown",
   "metadata": {},
   "source": [
    "# 输入一个一亿以内的用人民币读法表示的数字，将其转化成纯数字。"
   ]
  },
  {
   "cell_type": "code",
   "execution_count": null,
   "metadata": {},
   "outputs": [],
   "source": [
    "def readRMB(RMB_section):\n",
    "    check1=['',u'十',u'百',u'千']\n",
    "    check2=[u'一',u'二',u'三',u'四',u'五',u'六',u'七',u'八',u'九',u'零']\n",
    "    ind1=[1,10,100,1000]\n",
    "    ind2=[1,2,3,4,5,6,7,8,9,0]\n",
    "    digit=[]\n",
    "    digit_sub_before0=[]\n",
    "    digit_sub_after0=[]\n",
    "    number=[]\n",
    "    number_sub_before0=[]\n",
    "    number_sub_after0=[]\n",
    "    product=[]\n",
    "    product_sub_before0=[]\n",
    "    product_sub_after0=[]\n",
    "    if RMB_section.find(u'零')==-1:\n",
    "        for i in range(len(RMB_section)):\n",
    "            for j in range(len(check1)):\n",
    "                if RMB_section[i]==check1[j]:\n",
    "                    digit.append(ind1[j])\n",
    "            for m in range(len(check2)):\n",
    "                if RMB_section[i]==check2[m]:\n",
    "                    number.append(ind2[m])\n",
    "        if len(digit)<len(number):\n",
    "            digit.append(ind1[0])\n",
    "        for i in range(len(digit)):\n",
    "            product.append(number[i]*digit[i])\n",
    "        value=sum(product)\n",
    "    if RMB_section.find(u'零')!=-1:\n",
    "        index=RMB_section.find(u'零')\n",
    "        sub_before0=RMB_section[0:index]\n",
    "        sub_after0=RMB_section[index+1:len(RMB_section)]\n",
    "        for i in range(len(sub_before0)):\n",
    "            for j in range(len(check1)):\n",
    "                if sub_before0[i]==check1[j]:\n",
    "                    digit_sub_before0.append(ind1[j])\n",
    "            for m in range(len(check2)):\n",
    "                if sub_before0[i]==check2[m]:\n",
    "                    number_sub_before0.append(ind2[m])\n",
    "        if len(digit_sub_before0)<len(number_sub_before0):\n",
    "            digit_sub_before0.append(ind1[0])\n",
    "        for i in range(len(digit_sub_before0)):\n",
    "            product_sub_before0.append(number_sub_before0[i]*digit_sub_before0[i])\n",
    "        for i in range(len(sub_after0)):\n",
    "            for j in range(len(check1)):\n",
    "                if sub_after0[i]==check1[j]:\n",
    "                    digit_sub_after0.append(ind1[j])\n",
    "            for m in range(len(check2)):\n",
    "                if sub_after0[i]==check2[m]:\n",
    "                    number_sub_after0.append(ind2[m])\n",
    "        if len(digit_sub_after0)<len(number_sub_after0):\n",
    "            digit_sub_after0.append(ind1[0])\n",
    "        for i in range(len(digit_sub_after0)):\n",
    "            product_sub_after0.append(number_sub_after0[i]*digit_sub_after0[i])\n",
    "        value=sum(product_sub_before0)+sum(product_sub_after0)\n",
    "    return value   \n",
    "import math\n",
    "money=input(\"please enter one number(less than 1e8) with chinese RMB format:\")\n",
    "a=money.find(u'万')\n",
    "if a==-1:\n",
    "    value=readRMB(money)\n",
    "    print(value)\n",
    "else:\n",
    "    before_thousand=money[0:a]\n",
    "    after_thousand=money[a+1:len(money)]\n",
    "    value1=readRMB(before_thousand)\n",
    "    value2=readRMB(after_thousand)\n",
    "    print(value1,value2)"
   ]
  }
 ],
 "metadata": {
  "kernelspec": {
   "display_name": "Python 3",
   "language": "python",
   "name": "python3"
  },
  "language_info": {
   "codemirror_mode": {
    "name": "ipython",
    "version": 3
   },
   "file_extension": ".py",
   "mimetype": "text/x-python",
   "name": "python",
   "nbconvert_exporter": "python",
   "pygments_lexer": "ipython3",
   "version": "3.7.1"
  }
 },
 "nbformat": 4,
 "nbformat_minor": 2
}
