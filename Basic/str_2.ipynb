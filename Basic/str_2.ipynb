{
 "cells": [
  {
   "cell_type": "markdown",
   "metadata": {},
   "source": [
    "# 1.输入n,随机产生长度为n的字符串"
   ]
  },
  {
   "cell_type": "code",
   "execution_count": 10,
   "metadata": {},
   "outputs": [
    {
     "name": "stdout",
     "output_type": "stream",
     "text": [
      "please enter the length for random string23\n",
      "['k', 'V', 'M', 'T', 'I', 'i', 'C', 'L', 'G', 'b', 'N', 'l', 'H', 'd', 'U', 'z', 'y', 't', 'u', 'g', 'K', 'P', 'X']\n",
      "52\n"
     ]
    }
   ],
   "source": [
    "import random\n",
    "import string\n",
    "import math\n",
    "n=int(input(\"please enter the length for random string\"))\n",
    "i=0\n",
    "b=[]\n",
    "a=[]\n",
    "if n>len(string.ascii_letters):\n",
    "    times=math.ceil(n/len(string.ascii_letters))\n",
    "    n1=len(string.ascii_letters)\n",
    "    while i<times-1:\n",
    "        a=(random.sample(string.ascii_letters,n1))\n",
    "        b.append(a)\n",
    "        i+=1\n",
    "    a2=random.sample(string.ascii_letters,n-(times-1)*n1)\n",
    "    b.append(a2)\n",
    "else:\n",
    "    b=(random.sample(string.ascii_letters,n))\n",
    "print(b)\n",
    "print(len(string.ascii_letters))"
   ]
  },
  {
   "cell_type": "code",
   "execution_count": null,
   "metadata": {},
   "outputs": [],
   "source": []
  },
  {
   "cell_type": "code",
   "execution_count": null,
   "metadata": {},
   "outputs": [],
   "source": []
  }
 ],
 "metadata": {
  "kernelspec": {
   "display_name": "Python 3",
   "language": "python",
   "name": "python3"
  },
  "language_info": {
   "codemirror_mode": {
    "name": "ipython",
    "version": 3
   },
   "file_extension": ".py",
   "mimetype": "text/x-python",
   "name": "python",
   "nbconvert_exporter": "python",
   "pygments_lexer": "ipython3",
   "version": "3.7.3"
  }
 },
 "nbformat": 4,
 "nbformat_minor": 2
}
