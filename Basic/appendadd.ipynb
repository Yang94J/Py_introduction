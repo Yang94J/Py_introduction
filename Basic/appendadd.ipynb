{
 "cells": [
  {
   "cell_type": "markdown",
   "metadata": {},
   "source": [
    "# 输入数组 半径 进行添加或抛弃"
   ]
  },
  {
   "cell_type": "code",
   "execution_count": null,
   "metadata": {},
   "outputs": [],
   "source": [
    "li=[-3,2,9,10]\n",
    "r=float(input(\"please enter the radius:\"))\n",
    "n=int(input(\"please enter how many numbers you want to input:\"))\n",
    "count=1\n",
    "distance=0\n",
    "while count<=n:\n",
    "    value=float(input(\"please enter the value:\"))\n",
    "    for i in li:\n",
    "        distance=distance+abs(value-i)\n",
    "    distance_avg=distance/len(li)\n",
    "    if distance_avg<r:\n",
    "        li.append(value)\n",
    "        count+=1\n",
    "    else:\n",
    "        count+=1\n",
    "print(li)"
   ]
  }
 ],
 "metadata": {
  "kernelspec": {
   "display_name": "Python 3",
   "language": "python",
   "name": "python3"
  },
  "language_info": {
   "codemirror_mode": {
    "name": "ipython",
    "version": 3
   },
   "file_extension": ".py",
   "mimetype": "text/x-python",
   "name": "python",
   "nbconvert_exporter": "python",
   "pygments_lexer": "ipython3",
   "version": "3.7.3"
  }
 },
 "nbformat": 4,
 "nbformat_minor": 2
}
