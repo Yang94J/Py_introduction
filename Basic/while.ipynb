{
 "cells": [
  {
   "cell_type": "markdown",
   "metadata": {},
   "source": [
    "# 1.出一个选择题，获取输入，判断是否正确，如不正确重新选择直到正确。"
   ]
  },
  {
   "cell_type": "code",
   "execution_count": 3,
   "metadata": {},
   "outputs": [
    {
     "name": "stdout",
     "output_type": "stream",
     "text": [
      "Question: How old is Yang Hang? A.10 B.24 C.35\n",
      "Please make a choice：A\n",
      "Your answer is wrong, please select again!\n",
      "Please make a choice：C\n",
      "Your answer is wrong, please select again!\n",
      "Please make a choice：B\n",
      "Your answer is correct!\n"
     ]
    }
   ],
   "source": [
    "print(\"Question: How old is Yang Hang? A.10 B.24 C.35\")\n",
    "ans_correct=str(\"B\")\n",
    "ans_select = input(\"Please make a choice：\")\n",
    "a=0\n",
    "while a!=1:\n",
    "    if ans_correct==ans_select:\n",
    "        print(\"Your answer is correct!\") \n",
    "        a=1\n",
    "    else:\n",
    "        print(\"Your answer is wrong, please select again!\")\n",
    "        ans_select = input(\"Please make a choice：\")"
   ]
  },
  {
   "cell_type": "code",
   "execution_count": null,
   "metadata": {},
   "outputs": [],
   "source": []
  },
  {
   "cell_type": "code",
   "execution_count": null,
   "metadata": {},
   "outputs": [],
   "source": []
  }
 ],
 "metadata": {
  "kernelspec": {
   "display_name": "Python 3",
   "language": "python",
   "name": "python3"
  },
  "language_info": {
   "codemirror_mode": {
    "name": "ipython",
    "version": 3
   },
   "file_extension": ".py",
   "mimetype": "text/x-python",
   "name": "python",
   "nbconvert_exporter": "python",
   "pygments_lexer": "ipython3",
   "version": "3.7.3"
  }
 },
 "nbformat": 4,
 "nbformat_minor": 2
}
