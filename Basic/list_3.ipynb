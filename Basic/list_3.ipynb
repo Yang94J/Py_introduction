{
 "cells": [
  {
   "cell_type": "markdown",
   "metadata": {},
   "source": [
    "# 1. 给一个列表，找出来出现次数最多的数"
   ]
  },
  {
   "cell_type": "code",
   "execution_count": 17,
   "metadata": {},
   "outputs": [
    {
     "name": "stdout",
     "output_type": "stream",
     "text": [
      "出现次数最多的数为： 1\n"
     ]
    }
   ],
   "source": [
    "import numpy as np\n",
    "x =[1,2,3,1,1,3,5]\n",
    "y=x\n",
    "Li=np.zeros(len(x))\n",
    "Li2=[]\n",
    "ind_x=0\n",
    "ind_y=0\n",
    "for ind_x in range(len(x)):\n",
    "    for ind_y in range(len(y)):\n",
    "        if x[ind_x]==y[ind_y]:\n",
    "            Li[ind_x]=Li[ind_x]+1\n",
    "        else:\n",
    "            ind_y=ind_y+1\n",
    "    ind_x=ind_x+1\n",
    "#print(Li)\n",
    "Li=Li.tolist()\n",
    "print(\"出现次数最多的数为：\", x[Li.index(max(Li))])"
   ]
  },
  {
   "cell_type": "code",
   "execution_count": null,
   "metadata": {},
   "outputs": [],
   "source": [
    "#这种做法仅能输出一个，但如果要输出所有次数最多的怎们办呢？"
   ]
  },
  {
   "cell_type": "code",
   "execution_count": 5,
   "metadata": {},
   "outputs": [
    {
     "name": "stdout",
     "output_type": "stream",
     "text": [
      "{1, 3}\n"
     ]
    }
   ],
   "source": [
    "import numpy as np\n",
    "x =[1,2,3,1,1,3,3]\n",
    "y=x\n",
    "Li=np.zeros(len(x))\n",
    "Li2=[]\n",
    "ind_x=0\n",
    "ind_y=0\n",
    "for ind_x in range(len(x)):\n",
    "    for ind_y in range(len(y)):\n",
    "        if x[ind_x]==y[ind_y]:\n",
    "            Li[ind_x]=Li[ind_x]+1\n",
    "        else:\n",
    "            ind_y=ind_y+1\n",
    "    ind_x=ind_x+1\n",
    "#print(Li)\n",
    "Li=Li.tolist()\n",
    "res=set()\n",
    "for i in range(len(Li)):\n",
    "    if Li[i]==max(Li):\n",
    "        res.add(x[i])\n",
    "print(res)\n"
   ]
  },
  {
   "cell_type": "code",
   "execution_count": null,
   "metadata": {},
   "outputs": [],
   "source": []
  }
 ],
 "metadata": {
  "kernelspec": {
   "display_name": "Python 3",
   "language": "python",
   "name": "python3"
  },
  "language_info": {
   "codemirror_mode": {
    "name": "ipython",
    "version": 3
   },
   "file_extension": ".py",
   "mimetype": "text/x-python",
   "name": "python",
   "nbconvert_exporter": "python",
   "pygments_lexer": "ipython3",
   "version": "3.7.3"
  }
 },
 "nbformat": 4,
 "nbformat_minor": 2
}
