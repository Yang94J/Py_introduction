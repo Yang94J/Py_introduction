{
 "cells": [
  {
   "cell_type": "markdown",
   "metadata": {},
   "source": [
    "# 1. 要求输入一个七进制的整数，判断输入的数是否合理，如不合理则要求重新输入。"
   ]
  },
  {
   "cell_type": "code",
   "execution_count": 2,
   "metadata": {},
   "outputs": [
    {
     "name": "stdout",
     "output_type": "stream",
     "text": [
      "please input a hexadecimal number:17\n",
      "The format is wrong, please input a hexadecimal number again:126\n"
     ]
    }
   ],
   "source": [
    "a=input(\"please input a hexadecimal number:\")\n",
    "n=len(a)\n",
    "indi=0\n",
    "while indi<n:\n",
    "    x=a[indi]\n",
    "    x=int(x)\n",
    "    if x>=7:\n",
    "        a=input(\"The format is wrong, please input a hexadecimal number again:\")\n",
    "        indi=0\n",
    "        n=len(a)\n",
    "    else:\n",
    "        indi+=1"
   ]
  },
  {
   "cell_type": "code",
   "execution_count": null,
   "metadata": {},
   "outputs": [],
   "source": []
  }
 ],
 "metadata": {
  "kernelspec": {
   "display_name": "Python 3",
   "language": "python",
   "name": "python3"
  },
  "language_info": {
   "codemirror_mode": {
    "name": "ipython",
    "version": 3
   },
   "file_extension": ".py",
   "mimetype": "text/x-python",
   "name": "python",
   "nbconvert_exporter": "python",
   "pygments_lexer": "ipython3",
   "version": "3.7.3"
  }
 },
 "nbformat": 4,
 "nbformat_minor": 2
}
