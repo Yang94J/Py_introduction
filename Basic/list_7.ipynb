{
 "cells": [
  {
   "cell_type": "markdown",
   "metadata": {},
   "source": [
    "# 1. 假设有一个数组，第i个元素是一支给定的股票在第i天的价格。如果你最多只允许完成一次交易（例如一次买卖股票），请找出最大利润。"
   ]
  },
  {
   "cell_type": "code",
   "execution_count": 29,
   "metadata": {},
   "outputs": [
    {
     "name": "stdout",
     "output_type": "stream",
     "text": [
      "[[ 0.  1.  2.  8.  1.  0.]\n",
      " [ 0.  0.  1.  7.  0. -1.]\n",
      " [ 0.  0.  0.  6. -1. -2.]\n",
      " [ 0.  0.  0.  0. -7. -8.]\n",
      " [ 0.  0.  0.  0.  0. -1.]\n",
      " [ 0.  0.  0.  0.  0.  0.]] The maximum profit you can gain is: 8.0\n",
      "you should buy in 1 day and sale the stock in 4 day.\n"
     ]
    }
   ],
   "source": [
    "import copy\n",
    "import numpy as np\n",
    "stock=[1,2,3,9,2,1]\n",
    "n=len(stock)\n",
    "buy=copy.copy(stock)\n",
    "sale=copy.copy(stock)\n",
    "profit=np.zeros((n,n))\n",
    "for i in range(n):\n",
    "    for j in range(i,n):\n",
    "        profit[i][j]=sale[j]-buy[i]\n",
    "        j+=1\n",
    "    i+=1\n",
    "print(profit,\"The maximum profit you can gain is:\", profit.max())\n",
    "for i in range(n):\n",
    "    for j in range(i,n):\n",
    "        if profit[i][j]==profit.max():\n",
    "            print(\"you should buy in\", i+1,\"day and sale the stock in\",j+1, \"day.\")"
   ]
  },
  {
   "cell_type": "markdown",
   "metadata": {},
   "source": [
    "# 2. 基于1，保证用户怎么都不会亏钱"
   ]
  },
  {
   "cell_type": "code",
   "execution_count": 25,
   "metadata": {},
   "outputs": [
    {
     "name": "stdout",
     "output_type": "stream",
     "text": [
      "you can buy in 1 day and sale the stock in 2 day to gain 1.0 profit.\n",
      "you can buy in 1 day and sale the stock in 3 day to gain 2.0 profit.\n",
      "you can buy in 1 day and sale the stock in 4 day to gain 8.0 profit.\n",
      "you can buy in 1 day and sale the stock in 5 day to gain 1.0 profit.\n",
      "you can buy in 2 day and sale the stock in 3 day to gain 1.0 profit.\n",
      "you can buy in 2 day and sale the stock in 4 day to gain 7.0 profit.\n",
      "you can buy in 3 day and sale the stock in 4 day to gain 6.0 profit.\n",
      "The maximum profit you can gain is: 8.0\n"
     ]
    }
   ],
   "source": [
    "import copy\n",
    "import numpy as np\n",
    "stock=[1,2,3,9,2,1]\n",
    "#stock=[2,1,1]\n",
    "n=len(stock)\n",
    "buy=copy.copy(stock)\n",
    "sale=copy.copy(stock)\n",
    "profit=np.zeros((n,n))\n",
    "for i in range(n):\n",
    "    for j in range(i,n):\n",
    "        profit[i][j]=sale[j]-buy[i]\n",
    "        j+=1\n",
    "    i+=1\n",
    "for i in range(n):\n",
    "    for j in range(i,n):\n",
    "        if profit[i][j]>0:\n",
    "            print(\"you can buy in\", i+1,\"day and sale the stock in\",j+1, \"day to gain\",profit[i][j],\"profit.\")\n",
    "if profit.max()<0 or profit.max()==0:\n",
    "    print(\"you should not buy in the next\", n,\"days.\")\n",
    "else:\n",
    "    print(\"The maximum profit you can gain is:\", profit.max())"
   ]
  },
  {
   "cell_type": "code",
   "execution_count": null,
   "metadata": {},
   "outputs": [],
   "source": []
  }
 ],
 "metadata": {
  "kernelspec": {
   "display_name": "Python 3",
   "language": "python",
   "name": "python3"
  },
  "language_info": {
   "codemirror_mode": {
    "name": "ipython",
    "version": 3
   },
   "file_extension": ".py",
   "mimetype": "text/x-python",
   "name": "python",
   "nbconvert_exporter": "python",
   "pygments_lexer": "ipython3",
   "version": "3.7.3"
  }
 },
 "nbformat": 4,
 "nbformat_minor": 2
}
