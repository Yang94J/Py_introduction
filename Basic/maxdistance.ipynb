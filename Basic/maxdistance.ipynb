{
 "cells": [
  {
   "cell_type": "markdown",
   "metadata": {},
   "source": [
    "# 寻找距离其他点最大的点"
   ]
  },
  {
   "cell_type": "code",
   "execution_count": 1,
   "metadata": {},
   "outputs": [
    {
     "name": "stdout",
     "output_type": "stream",
     "text": [
      "[[ 0.  4.  7. 10.  1.]\n",
      " [ 4.  0.  3.  6.  3.]\n",
      " [ 7.  3.  0.  3.  6.]\n",
      " [10.  6.  3.  0.  9.]\n",
      " [ 1.  3.  6.  9.  0.]] [22. 16. 19. 28. 19.] target point is: 9\n"
     ]
    }
   ],
   "source": [
    "import numpy as np\n",
    "a=[-1,3,6,9,0]\n",
    "n=len(a)\n",
    "distance=np.zeros((n,n))\n",
    "diatance_sum=np.zeros((n,1))\n",
    "for i in range(n):\n",
    "    for j in range(n):\n",
    "        distance[i][j]=abs(a[i]-a[j])\n",
    "distance_sum=distance.sum(axis=1)\n",
    "for i in range(0,n):\n",
    "    if distance_sum[i]==distance_sum.max():\n",
    "        print(distance,distance_sum,\"target point is:\",a[i])       \n",
    "        "
   ]
  },
  {
   "cell_type": "code",
   "execution_count": null,
   "metadata": {},
   "outputs": [],
   "source": []
  }
 ],
 "metadata": {
  "kernelspec": {
   "display_name": "Python 3",
   "language": "python",
   "name": "python3"
  },
  "language_info": {
   "codemirror_mode": {
    "name": "ipython",
    "version": 3
   },
   "file_extension": ".py",
   "mimetype": "text/x-python",
   "name": "python",
   "nbconvert_exporter": "python",
   "pygments_lexer": "ipython3",
   "version": "3.7.3"
  }
 },
 "nbformat": 4,
 "nbformat_minor": 2
}
