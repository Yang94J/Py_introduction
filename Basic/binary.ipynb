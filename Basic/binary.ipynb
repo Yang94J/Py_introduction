{
 "cells": [
  {
   "cell_type": "markdown",
   "metadata": {},
   "source": [
    "# 1.输入一个0到1之间的小数，把它编成二进制。\n"
   ]
  },
  {
   "cell_type": "code",
   "execution_count": 5,
   "metadata": {},
   "outputs": [
    {
     "name": "stdout",
     "output_type": "stream",
     "text": [
      "please input a decimal ranges from 0 to 1:0.625\n",
      "the binary value of 0.625 is 0.101"
     ]
    }
   ],
   "source": [
    "import math\n",
    "a=input(\"please input a decimal ranges from 0 to 1:\")\n",
    "a=float(a)\n",
    "b=math.floor(a)\n",
    "c=a-b\n",
    "binary=[0]\n",
    "while c!=0:\n",
    "    c=c*2\n",
    "    b=math.floor(c)\n",
    "    binary.append(b)\n",
    "    c=c-b\n",
    "print(\"the binary value of\", a,\"is 0.\",end=\"\")\n",
    "for i in range(1,len(binary)):\n",
    "    print(binary[i],end=\"\")"
   ]
  },
  {
   "cell_type": "code",
   "execution_count": null,
   "metadata": {},
   "outputs": [],
   "source": []
  },
  {
   "cell_type": "code",
   "execution_count": null,
   "metadata": {},
   "outputs": [],
   "source": []
  }
 ],
 "metadata": {
  "kernelspec": {
   "display_name": "Python 3",
   "language": "python",
   "name": "python3"
  },
  "language_info": {
   "codemirror_mode": {
    "name": "ipython",
    "version": 3
   },
   "file_extension": ".py",
   "mimetype": "text/x-python",
   "name": "python",
   "nbconvert_exporter": "python",
   "pygments_lexer": "ipython3",
   "version": "3.7.3"
  }
 },
 "nbformat": 4,
 "nbformat_minor": 2
}
