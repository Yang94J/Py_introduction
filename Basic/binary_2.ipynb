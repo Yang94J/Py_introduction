{
 "cells": [
  {
   "cell_type": "markdown",
   "metadata": {},
   "source": [
    "# 1.输入一个8进制的数，含小数，转换成二进制输出"
   ]
  },
  {
   "cell_type": "code",
   "execution_count": 1,
   "metadata": {},
   "outputs": [
    {
     "name": "stdout",
     "output_type": "stream",
     "text": [
      "please input an octal number which contains decimal:234.6\n",
      "Its binary value is: [[0, 1, 0], [0, 1, 1], [1, 0, 0]] . [[1, 1, 0]]"
     ]
    }
   ],
   "source": [
    "import math\n",
    "a=input(\"please input an octal number which contains decimal:\")\n",
    "a=float(a)\n",
    "integer=math.floor(a)\n",
    "decimal=round(a-int(a),4)#define the length of decimal\n",
    "List1=list(str(integer))\n",
    "List2=list(str(decimal))\n",
    "del List2[0:2]\n",
    "#print(List1,List2)\n",
    "binary_integer=[]\n",
    "binary_decimal=[]\n",
    "binary1=[]\n",
    "binary2=[]\n",
    "for i in range(len(List1)):\n",
    "    List1[i]=int(List1[i])\n",
    "    while List1[i]!=0:\n",
    "        b=List1[i]%2\n",
    "        List1[i]=List1[i]//2\n",
    "        binary1.append(b)\n",
    "    while len(binary1)<3:\n",
    "        binary1.insert(len(binary1),0)\n",
    "    binary1=binary1[::-1]\n",
    "    binary_integer.append(binary1)\n",
    "    binary1=[]\n",
    "for i in range(len(List2)):\n",
    "    List2[i]=int(List2[i])\n",
    "    while List2[i]!=0:\n",
    "        b2=List2[i]%2\n",
    "        List2[i]=List2[i]//2\n",
    "        binary2.append(b2)\n",
    "    while len(binary2)<3:\n",
    "        binary2.insert(len(binary2),0)\n",
    "    binary2=binary2[::-1]\n",
    "    binary_decimal.append(binary2)\n",
    "    binary2=[]\n",
    "print(\"Its binary value is:\",binary_integer,\".\",binary_decimal,end=\"\")"
   ]
  },
  {
   "cell_type": "code",
   "execution_count": null,
   "metadata": {},
   "outputs": [],
   "source": []
  }
 ],
 "metadata": {
  "kernelspec": {
   "display_name": "Python 3",
   "language": "python",
   "name": "python3"
  },
  "language_info": {
   "codemirror_mode": {
    "name": "ipython",
    "version": 3
   },
   "file_extension": ".py",
   "mimetype": "text/x-python",
   "name": "python",
   "nbconvert_exporter": "python",
   "pygments_lexer": "ipython3",
   "version": "3.7.3"
  }
 },
 "nbformat": 4,
 "nbformat_minor": 2
}
