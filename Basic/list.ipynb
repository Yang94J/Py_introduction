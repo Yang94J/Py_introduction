{
 "cells": [
  {
   "cell_type": "markdown",
   "metadata": {},
   "source": [
    "# 1.输入两个矩阵，其中矩阵1为m行n列，矩阵2为n行w列，将这两个矩阵相乘输出"
   ]
  },
  {
   "cell_type": "code",
   "execution_count": 1,
   "metadata": {},
   "outputs": [
    {
     "name": "stdout",
     "output_type": "stream",
     "text": [
      "please enter row and column for the first matrix:2 3\n",
      "please enter  3  numbers for 1 row\n",
      "1 2 3\n",
      "please enter  3  numbers for 2 row\n",
      "1 2 3\n",
      "the first matrix is: [[1 2 3]\n",
      " [1 2 3]]\n",
      "please enter row and column for the second matrix:3 2\n",
      "please enter  2  numbers for 1 row\n",
      "4 3\n",
      "please enter  2  numbers for 2 row\n",
      "5 6\n",
      "please enter  2  numbers for 3 row\n",
      "3 4\n",
      "the second matrix is: [[4 3]\n",
      " [5 6]\n",
      " [3 4]]\n",
      "their product is: [[23 27]\n",
      " [23 27]]\n"
     ]
    }
   ],
   "source": [
    "import numpy as np\n",
    "m,n=input(\"please enter row and column for the first matrix:\").split()\n",
    "m,n=int(m),int(n)\n",
    "Li2=[]\n",
    "for i in range(m):\n",
    "    print(\"please enter \",n,\" numbers for\",i+1,\"row\")\n",
    "    Li=input().split()\n",
    "    Li=[int(j) for j in Li]\n",
    "    Li2.append(Li)\n",
    "a1=np.matrix(Li2)\n",
    "print(\"the first matrix is:\" ,a1)\n",
    "n,w=input(\"please enter row and column for the second matrix:\").split()\n",
    "n,w=int(n),int(w)\n",
    "Li4=[]\n",
    "for i in range(n):\n",
    "    print(\"please enter \",w,\" numbers for\",i+1,\"row\")\n",
    "    Li3=input().split()\n",
    "    Li3=[int(j) for j in Li3]\n",
    "    Li4.append(Li3)\n",
    "a2=np.matrix(Li4)\n",
    "print(\"the second matrix is:\" ,a2)\n",
    "a3=a1*a2\n",
    "print(\"their product is:\" ,a3)"
   ]
  },
  {
   "cell_type": "code",
   "execution_count": null,
   "metadata": {},
   "outputs": [],
   "source": []
  }
 ],
 "metadata": {
  "kernelspec": {
   "display_name": "Python 3",
   "language": "python",
   "name": "python3"
  },
  "language_info": {
   "codemirror_mode": {
    "name": "ipython",
    "version": 3
   },
   "file_extension": ".py",
   "mimetype": "text/x-python",
   "name": "python",
   "nbconvert_exporter": "python",
   "pygments_lexer": "ipython3",
   "version": "3.7.3"
  }
 },
 "nbformat": 4,
 "nbformat_minor": 2
}
