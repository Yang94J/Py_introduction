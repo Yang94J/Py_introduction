{
 "cells": [
  {
   "cell_type": "markdown",
   "metadata": {},
   "source": [
    "# 1.输入两个单词，比较两个单词的长度并且输出较多的单词"
   ]
  },
  {
   "cell_type": "code",
   "execution_count": 16,
   "metadata": {},
   "outputs": [
    {
     "name": "stdout",
     "output_type": "stream",
     "text": [
      "Please input 2 strings：me you\n",
      "you\n"
     ]
    }
   ],
   "source": [
    "str1,str2 = input(\"Please input 2 strings：\").split()\n",
    "if len(str1)== len(str2):\n",
    "    print(\"please input again\")\n",
    "elif len(str1)>len(str2):\n",
    "    print(str1)\n",
    "else:\n",
    "    print(str2)"
   ]
  },
  {
   "cell_type": "markdown",
   "metadata": {},
   "source": [
    "# 2.输入身高，体重，计算BMI，输出是否肥胖"
   ]
  },
  {
   "cell_type": "markdown",
   "metadata": {},
   "source": [
    "BMI=weight$\\div$height$^{2}$; unit for weight and height are [kg] and [m], respectively."
   ]
  },
  {
   "cell_type": "code",
   "execution_count": 23,
   "metadata": {},
   "outputs": [
    {
     "name": "stdout",
     "output_type": "stream",
     "text": [
      "please input your height[m] and weight[kg]:1.61 47\n",
      "you are underweight.\n"
     ]
    }
   ],
   "source": [
    "height,weight=input(\"please input your height[m] and weight[kg]:\").split()\n",
    "height,weight=float(height),float(weight)\n",
    "BMI=weight/(height**2)\n",
    "if BMI>24:\n",
    "    print(\"you are overweight.\")\n",
    "elif BMI<18.5:\n",
    "    print(\"you are underweight.\")\n",
    "else:\n",
    "    print(\"you are very healthy!\")"
   ]
  },
  {
   "cell_type": "code",
   "execution_count": null,
   "metadata": {},
   "outputs": [],
   "source": []
  }
 ],
 "metadata": {
  "kernelspec": {
   "display_name": "Python 3",
   "language": "python",
   "name": "python3"
  },
  "language_info": {
   "codemirror_mode": {
    "name": "ipython",
    "version": 3
   },
   "file_extension": ".py",
   "mimetype": "text/x-python",
   "name": "python",
   "nbconvert_exporter": "python",
   "pygments_lexer": "ipython3",
   "version": "3.7.3"
  }
 },
 "nbformat": 4,
 "nbformat_minor": 2
}
