{
 "cells": [
  {
   "cell_type": "markdown",
   "metadata": {},
   "source": [
    "# 1. 比较一个三进制和一个整数的大小。"
   ]
  },
  {
   "cell_type": "code",
   "execution_count": 1,
   "metadata": {},
   "outputs": [
    {
     "name": "stdout",
     "output_type": "stream",
     "text": [
      "please enter a ternary number:122\n",
      "please enter an integer:23\n",
      "122 is smaller than 23\n"
     ]
    }
   ],
   "source": [
    "from math import *\n",
    "import copy\n",
    "a=input(\"please enter a ternary number:\")\n",
    "integer=int(input(\"please enter an integer:\"))\n",
    "ternary=copy.copy(a)\n",
    "b=0\n",
    "c=0\n",
    "i=len(a)-1\n",
    "while c<len(a):\n",
    "    x=a[i]\n",
    "    x=int(x)\n",
    "    b=b+x*(3**c)\n",
    "    c+=1\n",
    "    i=i-1\n",
    "#print(b)\n",
    "if b>integer:\n",
    "    print(ternary,\"is larger than\",integer)\n",
    "elif b==integer:\n",
    "    print(ternary,\"equals to\",integer)\n",
    "else:\n",
    "    print(ternary,\"is smaller than\",integer)"
   ]
  },
  {
   "cell_type": "code",
   "execution_count": null,
   "metadata": {},
   "outputs": [],
   "source": []
  },
  {
   "cell_type": "code",
   "execution_count": null,
   "metadata": {},
   "outputs": [],
   "source": []
  }
 ],
 "metadata": {
  "kernelspec": {
   "display_name": "Python 3",
   "language": "python",
   "name": "python3"
  },
  "language_info": {
   "codemirror_mode": {
    "name": "ipython",
    "version": 3
   },
   "file_extension": ".py",
   "mimetype": "text/x-python",
   "name": "python",
   "nbconvert_exporter": "python",
   "pygments_lexer": "ipython3",
   "version": "3.7.3"
  }
 },
 "nbformat": 4,
 "nbformat_minor": 2
}
