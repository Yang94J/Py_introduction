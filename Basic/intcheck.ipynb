{
 "cells": [
  {
   "cell_type": "markdown",
   "metadata": {},
   "source": [
    "# 判断一个数是不是1+2..+n的结果形式"
   ]
  },
  {
   "cell_type": "code",
   "execution_count": 1,
   "metadata": {},
   "outputs": [
    {
     "name": "stdout",
     "output_type": "stream",
     "text": [
      "please enter an integer:55\n",
      "55 is not the sum of 1 to 1\n",
      "55 is not the sum of 1 to 2\n",
      "55 is not the sum of 1 to 3\n",
      "55 is not the sum of 1 to 4\n",
      "55 is not the sum of 1 to 5\n",
      "55 is not the sum of 1 to 6\n",
      "55 is not the sum of 1 to 7\n",
      "55 is not the sum of 1 to 8\n",
      "55 is not the sum of 1 to 9\n",
      "55 is the sum of 1 to 10\n",
      "55 is not the sum of 1 to 11\n",
      "55 is not the sum of 1 to 12\n",
      "55 is not the sum of 1 to 13\n",
      "55 is not the sum of 1 to 14\n",
      "55 is not the sum of 1 to 15\n",
      "55 is not the sum of 1 to 16\n",
      "55 is not the sum of 1 to 17\n",
      "55 is not the sum of 1 to 18\n",
      "55 is not the sum of 1 to 19\n",
      "55 is not the sum of 1 to 20\n",
      "55 is not the sum of 1 to 21\n",
      "55 is not the sum of 1 to 22\n",
      "55 is not the sum of 1 to 23\n",
      "55 is not the sum of 1 to 24\n",
      "55 is not the sum of 1 to 25\n",
      "55 is not the sum of 1 to 26\n",
      "55 is not the sum of 1 to 27\n",
      "55 is not the sum of 1 to 28\n",
      "55 is not the sum of 1 to 29\n",
      "55 is not the sum of 1 to 30\n",
      "55 is not the sum of 1 to 31\n",
      "55 is not the sum of 1 to 32\n",
      "55 is not the sum of 1 to 33\n",
      "55 is not the sum of 1 to 34\n",
      "55 is not the sum of 1 to 35\n",
      "55 is not the sum of 1 to 36\n",
      "55 is not the sum of 1 to 37\n",
      "55 is not the sum of 1 to 38\n",
      "55 is not the sum of 1 to 39\n",
      "55 is not the sum of 1 to 40\n",
      "55 is not the sum of 1 to 41\n",
      "55 is not the sum of 1 to 42\n",
      "55 is not the sum of 1 to 43\n",
      "55 is not the sum of 1 to 44\n",
      "55 is not the sum of 1 to 45\n",
      "55 is not the sum of 1 to 46\n",
      "55 is not the sum of 1 to 47\n",
      "55 is not the sum of 1 to 48\n",
      "55 is not the sum of 1 to 49\n",
      "55 is not the sum of 1 to 50\n",
      "55 is not the sum of 1 to 51\n",
      "55 is not the sum of 1 to 52\n",
      "55 is not the sum of 1 to 53\n",
      "55 is not the sum of 1 to 54\n"
     ]
    }
   ],
   "source": [
    "a=int(input(\"please enter an integer:\"))\n",
    "def sum1n(n):\n",
    "    sum1n=0\n",
    "    for i in range(1,n+1):\n",
    "        sum1n=i+sum1n\n",
    "    return sum1n\n",
    "for i in range(1,a):\n",
    "    sumn=sum1n(i)\n",
    "    if sumn==a:\n",
    "        print(a,\"is the sum of 1 to\",i)\n",
    "    else:\n",
    "        print(a,\"is not the sum of 1 to\", i)"
   ]
  },
  {
   "cell_type": "code",
   "execution_count": 7,
   "metadata": {},
   "outputs": [
    {
     "name": "stdout",
     "output_type": "stream",
     "text": [
      "please enter an integer:55\n",
      "a is the sum from 1 to 10\n"
     ]
    }
   ],
   "source": [
    "a=int(input(\"please enter an integer:\"))\n",
    "c=1\n",
    "while(a>0):\n",
    "    a-=c\n",
    "    c+=1\n",
    "if a==0:\n",
    "    print(\"a is the sum from 1 to \"+ str(c-1))\n",
    "else:\n",
    "    print(\"a is not the sum of this type\")"
   ]
  },
  {
   "cell_type": "code",
   "execution_count": null,
   "metadata": {},
   "outputs": [],
   "source": []
  }
 ],
 "metadata": {
  "kernelspec": {
   "display_name": "Python 3",
   "language": "python",
   "name": "python3"
  },
  "language_info": {
   "codemirror_mode": {
    "name": "ipython",
    "version": 3
   },
   "file_extension": ".py",
   "mimetype": "text/x-python",
   "name": "python",
   "nbconvert_exporter": "python",
   "pygments_lexer": "ipython3",
   "version": "3.7.3"
  }
 },
 "nbformat": 4,
 "nbformat_minor": 2
}
