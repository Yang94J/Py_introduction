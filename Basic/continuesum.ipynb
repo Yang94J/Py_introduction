{
 "cells": [
  {
   "cell_type": "markdown",
   "metadata": {},
   "source": [
    "# 输入一个数n, 输入一个数m,判断n是否可以表达为m个连续的数相加"
   ]
  },
  {
   "cell_type": "code",
   "execution_count": 1,
   "metadata": {},
   "outputs": [
    {
     "name": "stdout",
     "output_type": "stream",
     "text": [
      "please enter an integer:21\n",
      "please enter n:4\n",
      "21 is not the sum of this type.\n"
     ]
    }
   ],
   "source": [
    "import math\n",
    "a=int(input(\"please enter an integer:\"))\n",
    "n=int(input(\"please enter n:\"))\n",
    "if n%2!=0 and a%n==0:\n",
    "    print(a,\"=sum\",[a/n-(n-1)/2,a/n+(n-1)/2])\n",
    "elif n%2==0 and a%(n/2)==0:\n",
    "    print(a,\"=sum\",[math.floor(a/n)-(n/2-1),math.ceil(a/n)+(n/2-1)])\n",
    "else:\n",
    "    print(a,\"is not the sum of this type.\") "
   ]
  },
  {
   "cell_type": "code",
   "execution_count": null,
   "metadata": {},
   "outputs": [],
   "source": []
  }
 ],
 "metadata": {
  "kernelspec": {
   "display_name": "Python 3",
   "language": "python",
   "name": "python3"
  },
  "language_info": {
   "codemirror_mode": {
    "name": "ipython",
    "version": 3
   },
   "file_extension": ".py",
   "mimetype": "text/x-python",
   "name": "python",
   "nbconvert_exporter": "python",
   "pygments_lexer": "ipython3",
   "version": "3.7.3"
  }
 },
 "nbformat": 4,
 "nbformat_minor": 2
}
