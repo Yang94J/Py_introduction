{
 "cells": [
  {
   "cell_type": "markdown",
   "metadata": {},
   "source": [
    "# 1. 输入n行，每行m个数存成数组"
   ]
  },
  {
   "cell_type": "code",
   "execution_count": 11,
   "metadata": {},
   "outputs": [
    {
     "name": "stdout",
     "output_type": "stream",
     "text": [
      "please enter row and column seperately:3 4\n",
      "please enter  4  numbers for 1 row\n",
      "1 2 3 4\n",
      "please enter  4  numbers for 2 row\n",
      "2 3 4 5\n",
      "please enter  4  numbers for 3 row\n",
      "3 4 5 6\n",
      "[['1', '2', '3', '4'], ['2', '3', '4', '5'], ['3', '4', '5', '6']]\n"
     ]
    }
   ],
   "source": [
    "n,m=input(\"please enter row and column seperately:\").split()\n",
    "n,m=int(n),int(m)\n",
    "Li2=[]\n",
    "for i in range(n):\n",
    "    print(\"please enter \",m,\" numbers for\",i+1,\"row\")\n",
    "    Li=input().split()\n",
    "    Li2.append(Li)\n",
    "print(Li2)"
   ]
  },
  {
   "cell_type": "code",
   "execution_count": null,
   "metadata": {},
   "outputs": [],
   "source": []
  }
 ],
 "metadata": {
  "kernelspec": {
   "display_name": "Python 3",
   "language": "python",
   "name": "python3"
  },
  "language_info": {
   "codemirror_mode": {
    "name": "ipython",
    "version": 3
   },
   "file_extension": ".py",
   "mimetype": "text/x-python",
   "name": "python",
   "nbconvert_exporter": "python",
   "pygments_lexer": "ipython3",
   "version": "3.7.3"
  }
 },
 "nbformat": 4,
 "nbformat_minor": 2
}
